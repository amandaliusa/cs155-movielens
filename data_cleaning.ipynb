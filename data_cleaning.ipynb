{
 "cells": [
  {
   "cell_type": "code",
   "execution_count": 1,
   "metadata": {},
   "outputs": [],
   "source": [
    "import matplotlib.pyplot as plt\n",
    "import numpy as np\n",
    "import pandas as pd"
   ]
  },
  {
   "cell_type": "code",
   "execution_count": 2,
   "metadata": {},
   "outputs": [],
   "source": [
    "# load data\n",
    "movies = pd.read_csv('data/movies.txt',delimiter=\"\\t\", header=None)\n",
    "movies.columns = ['ID', 'Title', 'Unknown', 'Action', 'Adventure', 'Animation', 'Childrens', 'Comedy', 'Crime', 'Documentary', 'Drama', 'Fantasy', 'Film-Noir', 'Horror', 'Musical', 'Mystery', 'Romance', 'Sci-Fi', 'Thriller', 'War', 'Western']\n",
    "data = pd.read_csv('data/data.txt',delimiter=\"\\t\", header=None)\n",
    "data.columns = ['User', 'Movie', 'Rating']"
   ]
  },
  {
   "cell_type": "code",
   "execution_count": 3,
   "metadata": {},
   "outputs": [
    {
     "name": "stdout",
     "output_type": "stream",
     "text": [
      "Chasing Amy (1997)\n",
      "Ulee's Gold (1997)\n",
      "Desperate Measures (1998)\n",
      "Fly Away Home (1996)\n",
      "Body Snatchers (1993)\n",
      "Kull the Conqueror (1997)\n",
      "Ice Storm, The (1997)\n",
      "Money Talks (1997)\n",
      "That Darn Cat! (1997)\n",
      "Designated Mourner, The (1997)\n",
      "Deceiver (1997)\n",
      "Hurricane Streets (1998)\n",
      "Hugo Pool (1997)\n",
      "Nightwatch (1997)\n",
      "Butcher Boy, The (1998)\n",
      "Chairman of the Board (1998)\n",
      "Substance of Fire, The (1996)\n",
      "Sliding Doors (1998)\n"
     ]
    }
   ],
   "source": [
    "# find movies with duplicate titles but different IDs and remove \n",
    "# duplicate rows\n",
    "titles = []\n",
    "unique_idx = []\n",
    "row = 0\n",
    "drop = []\n",
    "dups = {}\n",
    "\n",
    "for title in movies['Title']:\n",
    "    if title in titles:\n",
    "        print(title)\n",
    "        drop.append(row)\n",
    "        dups[titles.index(title) + 1] = row + 1\n",
    "    else:\n",
    "        unique_idx.append(row)\n",
    "\n",
    "    titles.append(title)\n",
    "    row += 1\n",
    "    \n",
    "movies.drop(drop, inplace = True) \n",
    "\n",
    "# replace duplicate IDs in data\n",
    "for duplicate in dups:\n",
    "    data['Movie'].replace(dups[duplicate], duplicate, inplace=True)"
   ]
  },
  {
   "cell_type": "code",
   "execution_count": 4,
   "metadata": {},
   "outputs": [
    {
     "name": "stderr",
     "output_type": "stream",
     "text": [
      "C:\\Users\\amanda\\Anaconda\\lib\\site-packages\\ipykernel_launcher.py:14: SettingWithCopyWarning: \n",
      "A value is trying to be set on a copy of a slice from a DataFrame\n",
      "\n",
      "See the caveats in the documentation: https://pandas.pydata.org/pandas-docs/stable/user_guide/indexing.html#returning-a-view-versus-a-copy\n",
      "  \n"
     ]
    }
   ],
   "source": [
    "# find number of ratings and average rating for each movie\n",
    "movies['num_ratings'] = [0]*len(movies)\n",
    "movies['tot_rating'] = [0]*len(movies)\n",
    "movies['avg_rating'] = [0.0]*len(movies)\n",
    "\n",
    "# get number of ratings\n",
    "for i in range(len(data)):\n",
    "    movie = data['Movie'][i] - 1 # IDs are 1-indexed\n",
    "    movies.loc[movie, 'num_ratings'] += 1\n",
    "    movies.loc[movie, 'tot_rating'] += data['Rating'][i]\n",
    "    \n",
    "for i in unique_idx:\n",
    "    if movies['num_ratings'][i] != 0:\n",
    "        movies['avg_rating'][i]= movies['tot_rating'][i] / movies['num_ratings'][i]"
   ]
  },
  {
   "cell_type": "code",
   "execution_count": 9,
   "metadata": {},
   "outputs": [],
   "source": [
    "# save updated dataframes\n",
    "movies.to_csv('data/movies.csv', index=False) \n",
    "data.to_csv('data/data.csv', index=False) "
   ]
  }
 ],
 "metadata": {
  "kernelspec": {
   "display_name": "Python 3",
   "language": "python",
   "name": "python3"
  },
  "language_info": {
   "codemirror_mode": {
    "name": "ipython",
    "version": 3
   },
   "file_extension": ".py",
   "mimetype": "text/x-python",
   "name": "python",
   "nbconvert_exporter": "python",
   "pygments_lexer": "ipython3",
   "version": "3.6.5"
  }
 },
 "nbformat": 4,
 "nbformat_minor": 2
}
